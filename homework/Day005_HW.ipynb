{
 "cells": [
  {
   "cell_type": "markdown",
   "metadata": {},
   "source": [
    "# API 資料串接 - 以 Dcard API 實作範例\n",
    "\n",
    "* 了解 Dcard API 使用方式與回傳內容\n",
    "* 撰寫程式存取 API 且解析 JSON 格式資料\n"
   ]
  },
  {
   "cell_type": "markdown",
   "metadata": {},
   "source": [
    "## 作業目標\n",
    "\n",
    "* 請利用 API: https://www.dcard.tw/_api/forums/pet/posts?popular=true 回答下列問題：\n",
    "\n",
    "1. 這個 API 一次會回傳幾筆資料？每一筆資料包含哪些欄位？\n",
    "2. 取出每一筆資料的「標題」、「貼文時間」、「留言人數」、「按讚人數」\n",
    "3. 計算熱門/非熱門文章的「平均留言人數」與「平均按讚人數」"
   ]
  },
  {
   "cell_type": "code",
   "execution_count": 15,
   "metadata": {},
   "outputs": [
    {
     "name": "stdout",
     "output_type": "stream",
     "text": [
      "一次會回傳幾筆資料 : 30\n",
      "每一筆資料包含哪些欄位 : 33\n"
     ]
    }
   ],
   "source": [
    "# 1. 這個 API 一次會回傳幾筆資料？每一筆資料包含哪些欄位？\n",
    "\n",
    "import requests\n",
    "import json\n",
    "r = requests.get('https://www.dcard.tw/_api/forums/pet/posts?popular=true')\n",
    "datas = json.loads(r.text)\n",
    "print(\"一次會回傳幾筆資料 :\",len(datas))\n",
    "print(\"每一筆資料包含哪些欄位 :\",len(datas[0]))\n"
   ]
  },
  {
   "cell_type": "code",
   "execution_count": 18,
   "metadata": {},
   "outputs": [
    {
     "name": "stdout",
     "output_type": "stream",
     "text": [
      "標題:是多麼喜歡 貼文時間:2020-02-29T05:52:42.475Z 留言人數:4  按讚人數:129\n",
      "標題:曬貓🥰路上救來的小賓士成長過程🤣 貼文時間:2020-02-29T09:37:52.029Z 留言人數:4  按讚人數:94\n",
      "標題:家有兩隻貓(⌯͒⁍̩̩᷄ ɪ ⁍̩̩᷄ฅ͒) 貼文時間:2020-02-28T16:04:47.921Z 留言人數:5  按讚人數:65\n",
      "標題:我只是想打個哈欠🥱 貼文時間:2020-02-28T16:44:58.714Z 留言人數:7  按讚人數:57\n",
      "標題:純粹想曬曬我家柯基🐶 貼文時間:2020-02-29T03:59:09.926Z 留言人數:3  按讚人數:41\n",
      "標題:最chill的邊境 貼文時間:2020-02-29T01:18:56.165Z 留言人數:5  按讚人數:28\n",
      "標題:問 狗狗品種 貼文時間:2020-02-29T03:03:15.315Z 留言人數:7  按讚人數:27\n",
      "標題:這位同學！請交出你的貓！ 貼文時間:2020-02-28T18:50:36.643Z 留言人數:3  按讚人數:22\n",
      "標題:小鳥倒掉 貼文時間:2020-02-29T13:03:28.751Z 留言人數:1  按讚人數:21\n",
      "標題:長榮同學！交出你的鼠鼠！ 貼文時間:2020-02-29T08:25:18.400Z 留言人數:7  按讚人數:17\n",
      "標題:只是想給大家看看芋仔 貼文時間:2020-02-29T10:02:55.703Z 留言人數:0  按讚人數:15\n",
      "標題:蛇板？（有關掉預覽 貼文時間:2020-02-28T17:20:29.630Z 留言人數:3  按讚人數:13\n",
      "標題:#問 野生鼠會跟寵物鼠有共鳴嗎？ 貼文時間:2020-02-28T15:39:29.606Z 留言人數:9  按讚人數:12\n",
      "標題:雖然不是第一次，但還是很緊張的假新手 貼文時間:2020-02-28T15:27:26.396Z 留言人數:4  按讚人數:12\n",
      "標題:朋友打算棄養 貼文時間:2020-02-29T06:33:22.172Z 留言人數:12  按讚人數:11\n",
      "標題:賓士貓送養 已結紮&預防針 貼文時間:2020-02-29T03:06:56.553Z 留言人數:3  按讚人數:11\n",
      "標題:臘腸PK貓咪 壓在地上打！ 貼文時間:2020-02-29T04:20:14.030Z 留言人數:0  按讚人數:9\n",
      "標題:限時的貓咪 貼文時間:2020-02-29T17:45:21.289Z 留言人數:2  按讚人數:8\n",
      "標題:文鳥養成 貼文時間:2020-02-29T07:51:17.328Z 留言人數:0  按讚人數:8\n",
      "標題:史上最讚的狗狗 貼文時間:2020-02-28T22:19:39.904Z 留言人數:0  按讚人數:8\n",
      "標題:#圖#影小柴→大柴 貼文時間:2020-02-28T17:16:37.117Z 留言人數:0  按讚人數:8\n",
      "標題:曬一下新來的小可愛😊 貼文時間:2020-02-29T18:36:31.491Z 留言人數:2  按讚人數:7\n",
      "標題:寵物電繪🐶🐱（免費 3/01中午止 貼文時間:2020-02-29T15:53:52.068Z 留言人數:20  按讚人數:7\n",
      "標題:浪浪愛撒嬌❤️ 貼文時間:2020-02-28T15:08:46.506Z 留言人數:1  按讚人數:7\n",
      "標題:領養第三天 貼文時間:2020-02-29T15:30:49.969Z 留言人數:2  按讚人數:6\n",
      "標題:貓咪3擇1 貼文時間:2020-02-29T01:03:41.600Z 留言人數:14  按讚人數:6\n",
      "標題:成為馴獸師！ 貼文時間:2020-02-28T19:56:09.767Z 留言人數:3  按讚人數:6\n",
      "標題:豹紋守宮中的巨人 貼文時間:2020-02-28T16:42:37.872Z 留言人數:3  按讚人數:6\n",
      "標題:曬照片٩(｡・ω・｡)﻿و 貼文時間:2020-02-29T15:53:09.766Z 留言人數:0  按讚人數:5\n",
      "標題:請問單兵該如何處置？ 貼文時間:2020-02-28T14:59:10.360Z 留言人數:3  按讚人數:5\n"
     ]
    }
   ],
   "source": [
    "# 2. 取出每一筆資料的「標題」、「貼文時間」、「留言人數」、「按讚人數」\n",
    "\n",
    "for data in datas:\n",
    "    print('標題:{:s} 貼文時間:{:s} 留言人數:{:d}  按讚人數:{:d}'.format(data['title'], data['createdAt'], data['commentCount'], data['likeCount']))"
   ]
  },
  {
   "cell_type": "code",
   "execution_count": 20,
   "metadata": {},
   "outputs": [
    {
     "name": "stdout",
     "output_type": "stream",
     "text": [
      "熱門文章 - 平均留言人數:4.233333 平均按讚人數:22.366667\n"
     ]
    }
   ],
   "source": [
    "# 3. 計算熱門/非熱門文章的「平均留言人數」與「平均按讚人數」\n",
    "avgCommentCount = 0\n",
    "avgLikeCount = 0\n",
    "for data in datas:\n",
    "    avgCommentCount+=data['commentCount']\n",
    "    avgLikeCount+=data['likeCount']\n",
    "print('熱門文章 - 平均留言人數:{:f} 平均按讚人數:{:f}'.format(avgCommentCount/len(datas),avgLikeCount/len(datas)))"
   ]
  },
  {
   "cell_type": "code",
   "execution_count": null,
   "metadata": {},
   "outputs": [],
   "source": []
  },
  {
   "cell_type": "code",
   "execution_count": null,
   "metadata": {},
   "outputs": [],
   "source": []
  }
 ],
 "metadata": {
  "kernelspec": {
   "display_name": "Python 3",
   "language": "python",
   "name": "python3"
  },
  "language_info": {
   "codemirror_mode": {
    "name": "ipython",
    "version": 3
   },
   "file_extension": ".py",
   "mimetype": "text/x-python",
   "name": "python",
   "nbconvert_exporter": "python",
   "pygments_lexer": "ipython3",
   "version": "3.7.4"
  }
 },
 "nbformat": 4,
 "nbformat_minor": 2
}
